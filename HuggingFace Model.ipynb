{
 "cells": [
  {
   "cell_type": "code",
   "execution_count": 1,
   "metadata": {},
   "outputs": [
    {
     "name": "stdout",
     "output_type": "stream",
     "text": [
      "Dataset loaded successfully. Shape: (375, 2)\n",
      "   Unnamed: 0                                         commentary\n",
      "0          19  Travis Head | Player of the Match - 137(120): ...\n",
      "1          20  Adam Zampa: Interesting to see the strategy to...\n",
      "2          21  Mitchell Starc: He (Cummins) was phenomenal, h...\n",
      "3          22  Steve Smith: Incredible feeling! Atmosphere wa...\n",
      "4          23  Mitch Marsh: Pure elation right now. Been the ...\n"
     ]
    }
   ],
   "source": [
    "#Load the Dataset\n",
    "import pandas as pd\n",
    "\n",
    "file_path = 'commentary_2023.csv'\n",
    "data = pd.read_csv(file_path)\n",
    "\n",
    "# Inspect the data\n",
    "print(\"Dataset loaded successfully. Shape:\", data.shape)\n",
    "print(data.head())\n",
    "\n",
    "\n"
   ]
  },
  {
   "cell_type": "code",
   "execution_count": 2,
   "metadata": {},
   "outputs": [
    {
     "name": "stderr",
     "output_type": "stream",
     "text": [
      "Device set to use cpu\n"
     ]
    },
    {
     "name": "stdout",
     "output_type": "stream",
     "text": [
      "Updated dataset saved at updated_commentary_2023.csv\n"
     ]
    }
   ],
   "source": [
    "#Select and Load a Hugging Face Model\n",
    "from transformers import pipeline\n",
    "\n",
    "# Load pre-trained sentiment-analysis pipeline\n",
    "sentiment_analyzer = pipeline(\"sentiment-analysis\", model=\"distilbert-base-uncased-finetuned-sst-2-english\")\n",
    "\n",
    "# Perform Sentiment Analysis\n",
    "# Analyze sentiment for each commentary\n",
    "data['sentiment'] = data['commentary'].apply(lambda text: sentiment_analyzer(text)[0]['label'])\n",
    "\n",
    "# Save updated dataset\n",
    "updated_file_path = 'updated_commentary_2023.csv'\n",
    "data.to_csv(updated_file_path, index=False)\n",
    "print(f\"Updated dataset saved at {updated_file_path}\")"
   ]
  }
 ],
 "metadata": {
  "kernelspec": {
   "display_name": "base",
   "language": "python",
   "name": "python3"
  },
  "language_info": {
   "codemirror_mode": {
    "name": "ipython",
    "version": 3
   },
   "file_extension": ".py",
   "mimetype": "text/x-python",
   "name": "python",
   "nbconvert_exporter": "python",
   "pygments_lexer": "ipython3",
   "version": "3.12.7"
  }
 },
 "nbformat": 4,
 "nbformat_minor": 2
}
