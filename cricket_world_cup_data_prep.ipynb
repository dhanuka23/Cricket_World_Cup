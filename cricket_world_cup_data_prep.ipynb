{
 "cells": [
  {
   "cell_type": "code",
   "execution_count": 25,
   "metadata": {},
   "outputs": [
    {
     "ename": "ModuleNotFoundError",
     "evalue": "No module named 'pandas'",
     "output_type": "error",
     "traceback": [
      "\u001b[1;31m---------------------------------------------------------------------------\u001b[0m",
      "\u001b[1;31mModuleNotFoundError\u001b[0m                       Traceback (most recent call last)",
      "Cell \u001b[1;32mIn[25], line 1\u001b[0m\n\u001b[1;32m----> 1\u001b[0m \u001b[38;5;28;01mimport\u001b[39;00m \u001b[38;5;21;01mpandas\u001b[39;00m \u001b[38;5;28;01mas\u001b[39;00m \u001b[38;5;21;01mpd\u001b[39;00m\n\u001b[0;32m      2\u001b[0m \u001b[38;5;28;01mimport\u001b[39;00m \u001b[38;5;21;01mglob\u001b[39;00m\n\u001b[0;32m      4\u001b[0m \u001b[38;5;66;03m# Specify the folder where the 13 CSV files are located\u001b[39;00m\n",
      "\u001b[1;31mModuleNotFoundError\u001b[0m: No module named 'pandas'"
     ]
    }
   ],
   "source": [
    "import pandas as pd\n",
    "import glob\n",
    "\n",
    "# Specify the folder where the 13 CSV files are located\n",
    "data_folder = \"WorldCup_Stats\"\n",
    "\n",
    "# Use glob to find all CSV files in the folder\n",
    "csv_files = glob.glob(f\"{data_folder}/*.csv\")\n",
    "\n",
    "# Load and concatenate the CSV files into a single DataFrame\n",
    "dataframes = [pd.read_csv(file) for file in csv_files]  # List comprehension to read each file\n",
    "crick_df = pd.concat(dataframes, ignore_index=True)\n",
    "\n",
    "# Display basic information about the resulting DataFrame\n",
    "crick_df.info()\n",
    "crick_df.head()"
   ]
  },
  {
   "cell_type": "code",
   "execution_count": null,
   "metadata": {},
   "outputs": [
    {
     "name": "stdout",
     "output_type": "stream",
     "text": [
      "DataFrame Structure:\n",
      "<class 'pandas.core.frame.DataFrame'>\n",
      "RangeIndex: 528 entries, 0 to 527\n",
      "Data columns (total 18 columns):\n",
      " #   Column           Non-Null Count  Dtype  \n",
      "---  ------           --------------  -----  \n",
      " 0   Unnamed: 0.1     528 non-null    int64  \n",
      " 1   Unnamed: 0       528 non-null    int64  \n",
      " 2   date             364 non-null    object \n",
      " 3   venue            528 non-null    object \n",
      " 4   match_category   528 non-null    object \n",
      " 5   team_1           528 non-null    object \n",
      " 6   team_2           528 non-null    object \n",
      " 7   team_1_runs      518 non-null    float64\n",
      " 8   team_1_wickets   518 non-null    float64\n",
      " 9   team_2_runs      513 non-null    float64\n",
      " 10  team_2_wickets   513 non-null    float64\n",
      " 11  result           528 non-null    object \n",
      " 12  pom              510 non-null    object \n",
      " 13  best_batters     250 non-null    object \n",
      " 14  best_bowlers     250 non-null    object \n",
      " 15  commentary_line  83 non-null     object \n",
      " 16  world_cup_year   528 non-null    int64  \n",
      " 17  host_country     528 non-null    object \n",
      "dtypes: float64(4), int64(3), object(11)\n",
      "memory usage: 74.4+ KB\n",
      "\n",
      "First 5 Rows:\n",
      "   Unnamed: 0.1  Unnamed: 0        date        venue match_category team_1  \\\n",
      "0             0          11         NaN   Nottingham   League-Match    PAK   \n",
      "1             1           5         NaN        Leeds   League-Match    EAf   \n",
      "2             2          12  1975-06-18        Leeds     Semi-Final    ENG   \n",
      "3             3           8  1975-06-14   Birmingham   League-Match    ENG   \n",
      "4             4          13         NaN     The Oval     Semi-Final     NZ   \n",
      "\n",
      "  team_2  team_1_runs  team_1_wickets  team_2_runs  team_2_wickets  \\\n",
      "0     SL        330.0             6.0        138.0             0.0   \n",
      "1    IND        120.0             0.0        123.0             0.0   \n",
      "2    AUS         93.0             0.0         94.0             6.0   \n",
      "3    EAf        290.0             5.0         94.0             0.0   \n",
      "4     WI        158.0             0.0        159.0             5.0   \n",
      "\n",
      "                                              result                 pom  \\\n",
      "0                           Pakistan won by 192 runs        Zaheer Abbas   \n",
      "1  India won by 10 wickets (with 181 balls remain...     Farokh Engineer   \n",
      "2  Australia won by 4 wickets (with 188 balls rem...        Gary Gilmour   \n",
      "3                            England won by 196 runs           John Snow   \n",
      "4  West Indies won by 5 wickets (with 119 balls r...  Alvin Kallicharran   \n",
      "\n",
      "  best_batters best_bowlers commentary_line  world_cup_year host_country  \n",
      "0          NaN          NaN             NaN            1975      England  \n",
      "1          NaN          NaN             NaN            1975      England  \n",
      "2          NaN          NaN             NaN            1975      England  \n",
      "3          NaN          NaN             NaN            1975      England  \n",
      "4          NaN          NaN             NaN            1975      England  \n",
      "\n",
      "Columns:\n",
      "Index(['Unnamed: 0.1', 'Unnamed: 0', 'date', 'venue', 'match_category',\n",
      "       'team_1', 'team_2', 'team_1_runs', 'team_1_wickets', 'team_2_runs',\n",
      "       'team_2_wickets', 'result', 'pom', 'best_batters', 'best_bowlers',\n",
      "       'commentary_line', 'world_cup_year', 'host_country'],\n",
      "      dtype='object')\n",
      "\n",
      "Data Types:\n",
      "Unnamed: 0.1         int64\n",
      "Unnamed: 0           int64\n",
      "date                object\n",
      "venue               object\n",
      "match_category      object\n",
      "team_1              object\n",
      "team_2              object\n",
      "team_1_runs        float64\n",
      "team_1_wickets     float64\n",
      "team_2_runs        float64\n",
      "team_2_wickets     float64\n",
      "result              object\n",
      "pom                 object\n",
      "best_batters        object\n",
      "best_bowlers        object\n",
      "commentary_line     object\n",
      "world_cup_year       int64\n",
      "host_country        object\n",
      "dtype: object\n"
     ]
    }
   ],
   "source": [
    "# Display the general structure of the DataFrame\n",
    "print(\"DataFrame Structure:\")\n",
    "crick_df.info()\n",
    "\n",
    "# Display the first few rows to understand the data\n",
    "print(\"\\nFirst 5 Rows:\")\n",
    "print(crick_df.head())\n",
    "\n",
    "# Display the columns\n",
    "print(\"\\nColumns:\")\n",
    "print(crick_df.columns)\n",
    "\n",
    "# Check data types\n",
    "print(\"\\nData Types:\")\n",
    "print(crick_df.dtypes)"
   ]
  },
  {
   "cell_type": "code",
   "execution_count": null,
   "metadata": {},
   "outputs": [
    {
     "name": "stdout",
     "output_type": "stream",
     "text": [
      "\n",
      "Number of duplicate rows: 0\n"
     ]
    }
   ],
   "source": [
    "# Check for duplicate records\n",
    "duplicates = crick_df.duplicated().sum()\n",
    "print(f\"\\nNumber of duplicate rows: {duplicates}\")\n",
    "\n",
    "# Remove duplicates\n",
    "if duplicates > 0:\n",
    "    crick_df = crick_df.drop_duplicates()\n",
    "    print(f\"Duplicate rows removed. New shape: {crick_df.shape}\")"
   ]
  },
  {
   "cell_type": "code",
   "execution_count": 26,
   "metadata": {},
   "outputs": [
    {
     "name": "stdout",
     "output_type": "stream",
     "text": [
      "\n",
      "Null Values Per Column:\n"
     ]
    },
    {
     "ename": "NameError",
     "evalue": "name 'crick_df' is not defined",
     "output_type": "error",
     "traceback": [
      "\u001b[1;31m---------------------------------------------------------------------------\u001b[0m",
      "\u001b[1;31mNameError\u001b[0m                                 Traceback (most recent call last)",
      "Cell \u001b[1;32mIn[26], line 3\u001b[0m\n\u001b[0;32m      1\u001b[0m \u001b[38;5;66;03m# Check for null values in each column\u001b[39;00m\n\u001b[0;32m      2\u001b[0m \u001b[38;5;28mprint\u001b[39m(\u001b[38;5;124m\"\u001b[39m\u001b[38;5;130;01m\\n\u001b[39;00m\u001b[38;5;124mNull Values Per Column:\u001b[39m\u001b[38;5;124m\"\u001b[39m)\n\u001b[1;32m----> 3\u001b[0m \u001b[38;5;28mprint\u001b[39m(\u001b[43mcrick_df\u001b[49m\u001b[38;5;241m.\u001b[39misnull()\u001b[38;5;241m.\u001b[39msum())\n\u001b[0;32m      5\u001b[0m \u001b[38;5;66;03m# Remove rows with null values\u001b[39;00m\n\u001b[0;32m      6\u001b[0m null_values \u001b[38;5;241m=\u001b[39m crick_df\u001b[38;5;241m.\u001b[39misnull()\u001b[38;5;241m.\u001b[39many()\u001b[38;5;241m.\u001b[39msum()\n",
      "\u001b[1;31mNameError\u001b[0m: name 'crick_df' is not defined"
     ]
    }
   ],
   "source": [
    "# Check for null values in each column\n",
    "print(\"\\nNull Values Per Column:\")\n",
    "print(crick_df.isnull().sum())\n",
    "\n",
    "# Remove rows with null values\n",
    "null_values = crick_df.isnull().any().sum()\n",
    "if null_values > 0:\n",
    "    crick_df = crick_df.dropna(how='all')\n",
    "    print(f\"\\nRows with null values removed. New shape: {crick_df.shape}\")\n",
    "else:\n",
    "    print(\"\\nNo null values detected.\")"
   ]
  }
 ],
 "metadata": {
  "kernelspec": {
   "display_name": "Python 3",
   "language": "python",
   "name": "python3"
  },
  "language_info": {
   "codemirror_mode": {
    "name": "ipython",
    "version": 3
   },
   "file_extension": ".py",
   "mimetype": "text/x-python",
   "name": "python",
   "nbconvert_exporter": "python",
   "pygments_lexer": "ipython3",
   "version": "3.11.9"
  }
 },
 "nbformat": 4,
 "nbformat_minor": 2
}
