{
 "cells": [
  {
   "cell_type": "code",
   "execution_count": 1,
   "metadata": {},
   "outputs": [
    {
     "name": "stdout",
     "output_type": "stream",
     "text": [
      "   Unnamed: 0.1  Unnamed: 0        date          venue match_category team_1  \\\n",
      "0             0           3  2011-02-21      Ahmedabad   League-Match    AUS   \n",
      "1             1          48  2011-04-02       Wankhede          Final     SL   \n",
      "2             2          28  2011-03-12         Nagpur   League-Match    IND   \n",
      "3             3          40  2011-03-20   Eden Gardens   League-Match    ZIM   \n",
      "4             6          42  2011-03-23         Mirpur          Final     WI   \n",
      "\n",
      "  team_2  team_1_runs  team_1_wickets  team_2_runs  ...  match_status  \\\n",
      "0    ZIM        262.0             6.0        171.0  ...        played   \n",
      "1    IND        274.0             6.0        277.0  ...        played   \n",
      "2     SA        296.0             0.0        300.0  ...        played   \n",
      "3  KENYA        308.0             6.0        147.0  ...        played   \n",
      "4    PAK        112.0             0.0        113.0  ...        played   \n",
      "\n",
      "    winning_team  best_bowler_1 best_bowler_1_wick    best_bowler_2  \\\n",
      "0     Australia      MG Johnson                  4        JJ Krejza   \n",
      "1         India      SL Malinga                  2     Yuvraj Singh   \n",
      "2  South Africa        DW Steyn                  5  Harbhajan Singh   \n",
      "3      Zimbabwe        RW Price                  2          GA Lamb   \n",
      "4      Pakistan   Shahid Afridi                  4  Mohammad Hafeez   \n",
      "\n",
      "   best_bowler_2_wick     best_batter_1 best_batter_1_runs best_batter_2  \\\n",
      "0                   2         SR Watson            79 runs     MJ Clarke   \n",
      "1                   2  DPMD Jayawardene           103 runs     G Gambhir   \n",
      "2                   3      SR Tendulkar           111 runs      V Sehwag   \n",
      "3                   2         CR Ervine            66 runs     V Sibanda   \n",
      "4                   2   Mohammad Hafeez            61 runs  Kamran Akmal   \n",
      "\n",
      "  best_batter_2_runs  \n",
      "0            58 runs  \n",
      "1            97 runs  \n",
      "2            73 runs  \n",
      "3            61 runs  \n",
      "4            47 runs  \n",
      "\n",
      "[5 rows x 27 columns]\n"
     ]
    }
   ],
   "source": [
    "import pandas as pd\n",
    "\n",
    "# Load the processed CSV file\n",
    "csv_file_path = \"processed_cricket_data.csv\"  # Ensure this path matches the file location\n",
    "crick_df = pd.read_csv(csv_file_path)\n",
    "\n",
    "# Use crick_df for creating visualizations\n",
    "print(crick_df.head())  # Optional: Check the loaded data\n"
   ]
  },
  {
   "cell_type": "code",
   "execution_count": 2,
   "metadata": {},
   "outputs": [],
   "source": [
    "#Load the Data\n",
    "\n",
    "csv_file_path = \"./processed_cricket_data.csv\"\n",
    "crick_df = pd.read_csv(csv_file_path)"
   ]
  }
 ],
 "metadata": {
  "kernelspec": {
   "display_name": "base",
   "language": "python",
   "name": "python3"
  },
  "language_info": {
   "codemirror_mode": {
    "name": "ipython",
    "version": 3
   },
   "file_extension": ".py",
   "mimetype": "text/x-python",
   "name": "python",
   "nbconvert_exporter": "python",
   "pygments_lexer": "ipython3",
   "version": "3.12.7"
  }
 },
 "nbformat": 4,
 "nbformat_minor": 2
}
