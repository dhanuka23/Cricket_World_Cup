{
 "cells": [
  {
   "cell_type": "code",
   "execution_count": 1,
   "metadata": {},
   "outputs": [
    {
     "name": "stdout",
     "output_type": "stream",
     "text": [
      "   Unnamed: 0.1  Unnamed: 0        date          venue match_category team_1  \\\n",
      "0             0           3  2011-02-21      Ahmedabad   League-Match    AUS   \n",
      "1             1          48  2011-04-02       Wankhede          Final     SL   \n",
      "2             2          28  2011-03-12         Nagpur   League-Match    IND   \n",
      "3             3          40  2011-03-20   Eden Gardens   League-Match    ZIM   \n",
      "4             6          42  2011-03-23         Mirpur          Final     WI   \n",
      "\n",
      "  team_2  team_1_runs  team_1_wickets  team_2_runs  ...  match_status  \\\n",
      "0    ZIM        262.0             6.0        171.0  ...        played   \n",
      "1    IND        274.0             6.0        277.0  ...        played   \n",
      "2     SA        296.0             0.0        300.0  ...        played   \n",
      "3  KENYA        308.0             6.0        147.0  ...        played   \n",
      "4    PAK        112.0             0.0        113.0  ...        played   \n",
      "\n",
      "    winning_team  best_bowler_1 best_bowler_1_wick    best_bowler_2  \\\n",
      "0     Australia      MG Johnson                  4        JJ Krejza   \n",
      "1         India      SL Malinga                  2     Yuvraj Singh   \n",
      "2  South Africa        DW Steyn                  5  Harbhajan Singh   \n",
      "3      Zimbabwe        RW Price                  2          GA Lamb   \n",
      "4      Pakistan   Shahid Afridi                  4  Mohammad Hafeez   \n",
      "\n",
      "   best_bowler_2_wick     best_batter_1 best_batter_1_runs best_batter_2  \\\n",
      "0                   2         SR Watson            79 runs     MJ Clarke   \n",
      "1                   2  DPMD Jayawardene           103 runs     G Gambhir   \n",
      "2                   3      SR Tendulkar           111 runs      V Sehwag   \n",
      "3                   2         CR Ervine            66 runs     V Sibanda   \n",
      "4                   2   Mohammad Hafeez            61 runs  Kamran Akmal   \n",
      "\n",
      "  best_batter_2_runs  \n",
      "0            58 runs  \n",
      "1            97 runs  \n",
      "2            73 runs  \n",
      "3            61 runs  \n",
      "4            47 runs  \n",
      "\n",
      "[5 rows x 27 columns]\n"
     ]
    }
   ],
   "source": [
    "import pandas as pd\n",
    "\n",
    "# Load the processed CSV file\n",
    "csv_file_path = \"processed_cricket_data.csv\"  # Ensure this path matches the file location\n",
    "crick_df = pd.read_csv(csv_file_path)\n",
    "\n",
    "# Use crick_df for creating visualizations\n",
    "print(crick_df.head())  # Optional: Check the loaded data\n"
   ]
  },
  {
   "cell_type": "code",
   "execution_count": 2,
   "metadata": {},
   "outputs": [],
   "source": [
    "#Load the Data\n",
    "\n",
    "csv_file_path = \"./processed_cricket_data.csv\"\n",
    "crick_df = pd.read_csv(csv_file_path)"
   ]
  },
  {
   "cell_type": "code",
   "execution_count": 3,
   "metadata": {},
   "outputs": [
    {
     "name": "stderr",
     "output_type": "stream",
     "text": [
      "c:\\Users\\HP\\AppData\\Local\\Programs\\Python\\Python313\\Lib\\site-packages\\dash\\dash.py:579: UserWarning:\n",
      "\n",
      "JupyterDash is deprecated, use Dash instead.\n",
      "See https://dash.plotly.com/dash-in-jupyter for more details.\n",
      "\n"
     ]
    }
   ],
   "source": [
    "#Define Dashboard Layout and Components\n",
    "\n",
    "from jupyter_dash import JupyterDash\n",
    "from dash import dcc, html\n",
    "import pandas as pd\n",
    "import plotly.express as px\n",
    "\n",
    "# Load the processed CSV file\n",
    "data_path = \"processed_cricket_data.csv\"  # Ensure this file is in the same directory\n",
    "crick_df = pd.read_csv(data_path)\n",
    "\n",
    "# Initialize the Dash app\n",
    "app = JupyterDash(__name__)\n",
    "\n",
    "# Define the app layout\n",
    "app.layout = html.Div([\n",
    "    html.H1(\"ICC Men’s Cricket World Cup Dashboard\", style={\"textAlign\": \"center\"}),\n",
    "\n",
    "    # Dropdown for team selection\n",
    "    html.Div([\n",
    "        html.Label(\"Select a Team:\", style={\"fontWeight\": \"bold\"}),\n",
    "        dcc.Dropdown(\n",
    "            id=\"team-dropdown\",\n",
    "            options=[{\"label\": team, \"value\": team} for team in crick_df[\"team_1\"].unique()],\n",
    "            value=crick_df[\"team_1\"].unique()[0],  # Default value\n",
    "            placeholder=\"Select a team\"\n",
    "        )\n",
    "    ], style={\"width\": \"50%\", \"margin\": \"auto\"}),\n",
    "\n",
    "    # Graph for matches played by year\n",
    "    html.Div([\n",
    "        dcc.Graph(id=\"matches-by-year\")\n",
    "    ]),\n",
    "\n",
    "    # Graph for team performance over the years\n",
    "    html.Div([\n",
    "        dcc.Graph(id=\"team-performance\")\n",
    "    ]),\n",
    "\n",
    "    # Graph for Player of the Match analysis\n",
    "    html.Div([\n",
    "        dcc.Graph(id=\"pom-analysis\")\n",
    "    ])\n",
    "])\n"
   ]
  },
  {
   "cell_type": "code",
   "execution_count": 4,
   "metadata": {},
   "outputs": [],
   "source": [
    "#Add Callbacks for Interactivity\n",
    "\n",
    "from dash.dependencies import Input, Output\n",
    "\n",
    "# Callback to update matches played by year graph\n",
    "@app.callback(\n",
    "    Output(\"matches-by-year\", \"figure\"),\n",
    "    Input(\"team-dropdown\", \"value\")\n",
    ")\n",
    "def update_matches_by_year(selected_team):\n",
    "    # Group data by year\n",
    "    year_data = crick_df.groupby(\"world_cup_year\").size().reset_index(name=\"match_count\")\n",
    "    # Create a bar chart\n",
    "    fig = px.bar(\n",
    "        year_data,\n",
    "        x=\"world_cup_year\",\n",
    "        y=\"match_count\",\n",
    "        title=\"Number of Matches Played Each Year\",\n",
    "        labels={\"world_cup_year\": \"Year\", \"match_count\": \"Matches Played\"}\n",
    "    )\n",
    "    return fig\n",
    "\n",
    "# Callback to update team performance graph\n",
    "@app.callback(\n",
    "    Output(\"team-performance\", \"figure\"),\n",
    "    Input(\"team-dropdown\", \"value\")\n",
    ")\n",
    "def update_team_performance(selected_team):\n",
    "    # Filter data for the selected team\n",
    "    team_data = crick_df[(crick_df[\"team_1\"] == selected_team) | (crick_df[\"team_2\"] == selected_team)]\n",
    "    team_data = team_data.groupby(\"world_cup_year\").size().reset_index(name=\"matches\")\n",
    "    # Create a line chart\n",
    "    fig = px.line(\n",
    "        team_data,\n",
    "        x=\"world_cup_year\",\n",
    "        y=\"matches\",\n",
    "        title=f\"{selected_team} Performance Over the Years\",\n",
    "        labels={\"world_cup_year\": \"Year\", \"matches\": \"Matches Played\"}\n",
    "    )\n",
    "    return fig\n",
    "\n",
    "# Callback to update Player of the Match analysis\n",
    "@app.callback(\n",
    "    Output(\"pom-analysis\", \"figure\"),\n",
    "    Input(\"team-dropdown\", \"value\")\n",
    ")\n",
    "def update_pom_analysis(selected_team):\n",
    "    # Filter data to include matches involving the selected team\n",
    "    pom_data = crick_df[(crick_df[\"team_1\"] == selected_team) | (crick_df[\"team_2\"] == selected_team)]\n",
    "    pom_data = pom_data[\"pom\"].value_counts().head(10).reset_index()\n",
    "    pom_data.columns = [\"Player\", \"Awards\"]\n",
    "    # Create a pie chart\n",
    "    fig = px.pie(\n",
    "        pom_data,\n",
    "        names=\"Player\",\n",
    "        values=\"Awards\",\n",
    "        title=f\"Top 10 Player of the Match Winners for {selected_team}\"\n",
    "    )\n",
    "    return fig\n",
    "\n"
   ]
  },
  {
   "cell_type": "code",
   "execution_count": 5,
   "metadata": {},
   "outputs": [
    {
     "data": {
      "text/html": [
       "\n",
       "        <iframe\n",
       "            width=\"100%\"\n",
       "            height=\"650\"\n",
       "            src=\"http://127.0.0.1:8050/\"\n",
       "            frameborder=\"0\"\n",
       "            allowfullscreen\n",
       "            \n",
       "        ></iframe>\n",
       "        "
      ],
      "text/plain": [
       "<IPython.lib.display.IFrame at 0x25cd0e71010>"
      ]
     },
     "metadata": {},
     "output_type": "display_data"
    },
    {
     "name": "stdout",
     "output_type": "stream",
     "text": [
      "Dash app running on http://127.0.0.1:8050/\n"
     ]
    }
   ],
   "source": [
    "#Run the dashboard\n",
    "if __name__ == '__main__':\n",
    "    app.run_server(debug=True)"
   ]
  }
 ],
 "metadata": {
  "kernelspec": {
   "display_name": "Python 3",
   "language": "python",
   "name": "python3"
  },
  "language_info": {
   "codemirror_mode": {
    "name": "ipython",
    "version": 3
   },
   "file_extension": ".py",
   "mimetype": "text/x-python",
   "name": "python",
   "nbconvert_exporter": "python",
   "pygments_lexer": "ipython3",
   "version": "3.13.0"
  }
 },
 "nbformat": 4,
 "nbformat_minor": 2
}
